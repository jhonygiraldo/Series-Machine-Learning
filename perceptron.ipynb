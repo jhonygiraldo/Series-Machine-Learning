{
  "nbformat": 4,
  "nbformat_minor": 0,
  "metadata": {
    "colab": {
      "name": "perceptron.ipynb",
      "provenance": [],
      "authorship_tag": "ABX9TyM4SIevruCbzivFS9aH0UQI",
      "include_colab_link": true
    },
    "kernelspec": {
      "name": "python3",
      "display_name": "Python 3"
    }
  },
  "cells": [
    {
      "cell_type": "markdown",
      "metadata": {
        "id": "view-in-github",
        "colab_type": "text"
      },
      "source": [
        "<a href=\"https://colab.research.google.com/github/jhonygiraldo/Series-Machine-Learning/blob/master/perceptron.ipynb\" target=\"_parent\"><img src=\"https://colab.research.google.com/assets/colab-badge.svg\" alt=\"Open In Colab\"/></a>"
      ]
    },
    {
      "cell_type": "code",
      "metadata": {
        "id": "MLki0UMqowCI",
        "colab_type": "code",
        "outputId": "089febd9-79f4-44d5-91cd-33c4bcc16db5",
        "colab": {
          "base_uri": "https://localhost:8080/",
          "height": 34
        }
      },
      "source": [
        "# Creación de hiperplano y datos sintéticos\n",
        "import numpy as np  # Librería numpy para manejo de vectores y matrices\n",
        "\n",
        "w_1 = np.random.uniform(-1,1) # Generar peso aleatorio\n",
        "w_2 = np.random.uniform(-1,1) # Generar peso aleatorio\n",
        "w_3 = np.random.uniform(-1,1) # Generar peso aleatorio\n",
        "while abs(w_3) > abs(w_2):    # Condición para obtener un hiperplano en dos dimensiones entre [-1, 1]\n",
        "  w_3 = np.random.uniform(-1,1)\n",
        "print([w_1,w_2,w_3])"
      ],
      "execution_count": 411,
      "outputs": [
        {
          "output_type": "stream",
          "text": [
            "[0.9037929518427181, 0.3759442090596996, -0.2198116836916859]\n"
          ],
          "name": "stdout"
        }
      ]
    },
    {
      "cell_type": "code",
      "metadata": {
        "id": "xmCkOBWCoHQm",
        "colab_type": "code",
        "outputId": "edac0052-5361-4180-c02a-6c5054b73f62",
        "colab": {
          "base_uri": "https://localhost:8080/",
          "height": 286
        }
      },
      "source": [
        "import matplotlib.pyplot as plt # Librería para graficar\n",
        "\n",
        "# w_1*x_1 + w_2*x_2 + w_3*1 = 0 -> x_2 = (-w_1*x_1-w_3)/w_2;\n",
        "x_1 = np.linspace(-1, 1, num=100) # Espacio lineal entre [-1, 1]\n",
        "x_2 = (-w_1*x_1-w_3)/w_2; # Ecuación de la recta\n",
        "plt.plot(x_1, x_2)        # Graficar recta\n",
        "plt.ylim([-1, 1])         # Limitar la visión entre [-1, 1]"
      ],
      "execution_count": 412,
      "outputs": [
        {
          "output_type": "execute_result",
          "data": {
            "text/plain": [
              "(-1.0, 1.0)"
            ]
          },
          "metadata": {
            "tags": []
          },
          "execution_count": 412
        },
        {
          "output_type": "display_data",
          "data": {
            "image/png": "[encoded data removed]",
            "text/plain": [
              "<Figure size 432x288 with 1 Axes>"
            ]
          },
          "metadata": {
            "tags": [],
            "needs_background": "light"
          }
        }
      ]
    },
    {
      "cell_type": "code",
      "metadata": {
        "id": "jquBjuEppKoO",
        "colab_type": "code",
        "outputId": "3b3b89e4-424a-4e3c-eff6-a16571c97bac",
        "colab": {
          "base_uri": "https://localhost:8080/",
          "height": 286
        }
      },
      "source": [
        "num_datos = 30  # Número de datos sintéticos ¡AUMENTE Y DISMINUYA ESTE NÚMERO PARA OBSERVAR EL EFECTO EN LA GRÁFICA FINAL!\n",
        "datos = np.random.uniform(-1,1,[num_datos,2]) # Puntos aleatorios en el plano de 2 dimensiones entre [-1, 1]\n",
        "plt.plot(datos[:,0], datos[:,1], 'o') # Graficar puntos\n",
        "plt.plot(x_1, x_2)  # Graficar plano\n",
        "plt.ylim([-1, 1])   # Limitar visualización del plano"
      ],
      "execution_count": 413,
      "outputs": [
        {
          "output_type": "execute_result",
          "data": {
            "text/plain": [
              "(-1.0, 1.0)"
            ]
          },
          "metadata": {
            "tags": []
          },
          "execution_count": 413
        },
        {
          "output_type": "display_data",
          "data": {
            "image/png": "[encoded data removed]",
            "text/plain": [
              "<Figure size 432x288 with 1 Axes>"
            ]
          },
          "metadata": {
            "tags": [],
            "needs_background": "light"
          }
        }
      ]
    },
    {
      "cell_type": "code",
      "metadata": {
        "id": "koucjFsdrFPu",
        "colab_type": "code",
        "outputId": "0f35b7cb-1a8a-4333-d7e2-5d54e649e90c",
        "colab": {
          "base_uri": "https://localhost:8080/",
          "height": 34
        }
      },
      "source": [
        "x = np.c_[datos, np.ones((num_datos,1))] # Adjuntar una columna de unos\n",
        "print(x.shape)"
      ],
      "execution_count": 414,
      "outputs": [
        {
          "output_type": "stream",
          "text": [
            "(30, 3)\n"
          ],
          "name": "stdout"
        }
      ]
    },
    {
      "cell_type": "code",
      "metadata": {
        "id": "EvDc5SkUsNSp",
        "colab_type": "code",
        "outputId": "56e222a4-68d0-4961-cc9e-354e9981bd8f",
        "colab": {
          "base_uri": "https://localhost:8080/",
          "height": 34
        }
      },
      "source": [
        "x = np.transpose(x) # Transpuesta de la matrix x\n",
        "print(x.shape)"
      ],
      "execution_count": 415,
      "outputs": [
        {
          "output_type": "stream",
          "text": [
            "(3, 30)\n"
          ],
          "name": "stdout"
        }
      ]
    },
    {
      "cell_type": "code",
      "metadata": {
        "id": "Zow_hrXjGX3r",
        "colab_type": "code",
        "outputId": "d779a4b1-5aa2-4c69-f3e0-17c1c6e3de1c",
        "colab": {
          "base_uri": "https://localhost:8080/",
          "height": 34
        }
      },
      "source": [
        "w = np.array([w_1, w_2, w_3]) # Crear un vector para multiplicación matricial\n",
        "w.shape = (3,1) # Convertir w en un vector columna\n",
        "print(w.shape)"
      ],
      "execution_count": 416,
      "outputs": [
        {
          "output_type": "stream",
          "text": [
            "(3, 1)\n"
          ],
          "name": "stdout"
        }
      ]
    },
    {
      "cell_type": "code",
      "metadata": {
        "id": "VGSpI6B6HSEA",
        "colab_type": "code",
        "outputId": "79da2d2b-4801-409d-87da-179183540127",
        "colab": {
          "base_uri": "https://localhost:8080/",
          "height": 34
        }
      },
      "source": [
        "# Salidas del modelo\n",
        "y = np.matmul(np.transpose(w),x) # Multiplicación entre vector de pesos y datos\n",
        "y = np.sign(y) # Salida con función signo\n",
        "print(y.shape)"
      ],
      "execution_count": 417,
      "outputs": [
        {
          "output_type": "stream",
          "text": [
            "(1, 30)\n"
          ],
          "name": "stdout"
        }
      ]
    },
    {
      "cell_type": "code",
      "metadata": {
        "id": "TZ3wZtPoH8mB",
        "colab_type": "code",
        "outputId": "0ad2ae9f-cd78-4c73-dce7-e186cd94b090",
        "colab": {
          "base_uri": "https://localhost:8080/",
          "height": 286
        }
      },
      "source": [
        "class_1_indx = np.where(np.equal(-1*np.ones(y.shape),y))[1] # Indices clase 1\n",
        "class_2_indx = np.where(np.equal(np.ones(y.shape),y))[1]    # Indices clase 2\n",
        "# Plot\n",
        "plt.plot(datos[class_1_indx,0], datos[class_1_indx,1], 'ko')  # Graficar los puntos de la clase 1\n",
        "plt.plot(datos[class_2_indx,0], datos[class_2_indx,1], 'm+')  # Graficar los puntos de la clase 2\n",
        "plt.plot(x_1, x_2)  # Graficar hiperplano\n",
        "plt.ylim([-1, 1])"
      ],
      "execution_count": 418,
      "outputs": [
        {
          "output_type": "execute_result",
          "data": {
            "text/plain": [
              "(-1.0, 1.0)"
            ]
          },
          "metadata": {
            "tags": []
          },
          "execution_count": 418
        },
        {
          "output_type": "display_data",
          "data": {
            "image/png": "[encoded data removed]",
            "text/plain": [
              "<Figure size 432x288 with 1 Axes>"
            ]
          },
          "metadata": {
            "tags": [],
            "needs_background": "light"
          }
        }
      ]
    },
    {
      "cell_type": "code",
      "metadata": {
        "id": "Rq2jX-t8LyMt",
        "colab_type": "code",
        "colab": {}
      },
      "source": [
        "# Perceptron\n",
        "w_train = np.random.uniform(-1,1,[3,1]) # Crear pesos aleatorios para empezar a entrenar\n",
        "y_train = np.sign(np.matmul(np.transpose(w_train),x)) # Clasificación con pesos actuales\n",
        "indx_missclassified = np.where(np.not_equal(y,y_train))[1]  # Indices de puntos mal clasificados\n",
        "iterations = 1;"
      ],
      "execution_count": 0,
      "outputs": []
    },
    {
      "cell_type": "code",
      "metadata": {
        "id": "rsmPRvXaoSnt",
        "colab_type": "code",
        "colab": {}
      },
      "source": [
        "while indx_missclassified.shape[0] > 0:\n",
        "  x_temp = x[:,indx_missclassified[0]]  # Se escoge uno de los datos mal clasificado\n",
        "  x_temp.shape = [3,1]  # Convertir x_temp en un vector columna\n",
        "  w_train = w_train + y[0,indx_missclassified[0]]*x_temp  # Formula de actualización de pesos\n",
        "  y_train = np.sign(np.matmul(np.transpose(w_train),x))   # Clasificación con pesos actuales\n",
        "  indx_missclassified = np.where(np.not_equal(y,y_train))[1]  # Indices de puntos mal clasificados\n",
        "  iterations += 1"
      ],
      "execution_count": 0,
      "outputs": []
    },
    {
      "cell_type": "code",
      "metadata": {
        "id": "2iLbFKGihaue",
        "colab_type": "code",
        "outputId": "168b50c2-493f-472e-ab7f-31c6626d3059",
        "colab": {
          "base_uri": "https://localhost:8080/",
          "height": 303
        }
      },
      "source": [
        "print('Numero de iteraciones: '+str(iterations))\n",
        "x_2_train = (-w_train[0]*x_1-w_train[2])/w_train[1] # Hiperplano entrenado\n",
        "# Plot\n",
        "plt.plot(x_1, x_2, 'b')\n",
        "plt.plot(x_1, x_2_train, 'r')\n",
        "plt.legend(['Hiperplano real', 'Hiperplano aprendido'])\n",
        "plt.plot(datos[class_1_indx,0], datos[class_1_indx,1], 'ko')\n",
        "plt.plot(datos[class_2_indx,0], datos[class_2_indx,1], 'm+')\n",
        "plt.ylim([-1, 1])"
      ],
      "execution_count": 421,
      "outputs": [
        {
          "output_type": "stream",
          "text": [
            "Numero de iteraciones: 20\n"
          ],
          "name": "stdout"
        },
        {
          "output_type": "execute_result",
          "data": {
            "text/plain": [
              "(-1.0, 1.0)"
            ]
          },
          "metadata": {
            "tags": []
          },
          "execution_count": 421
        },
        {
          "output_type": "display_data",
          "data": {
            "image/png": "[encoded data removed]",
            "text/plain": [
              "<Figure size 432x288 with 1 Axes>"
            ]
          },
          "metadata": {
            "tags": [],
            "needs_background": "light"
          }
        }
      ]
    }
  ]
}